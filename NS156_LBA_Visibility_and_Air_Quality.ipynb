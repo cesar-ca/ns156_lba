{
  "nbformat": 4,
  "nbformat_minor": 0,
  "metadata": {
    "colab": {
      "name": "NS156 - LBA: Visibility and Air Quality",
      "provenance": []
    },
    "kernelspec": {
      "name": "python3",
      "display_name": "Python 3"
    },
    "language_info": {
      "name": "python"
    }
  },
  "cells": [
    {
      "cell_type": "code",
      "metadata": {
        "id": "Fy0d0avbfcgV"
      },
      "source": [
        "#Importing the packages\n",
        "import numpy as np\n",
        "import netCDF4 as nc\n",
        "from datetime import datetime\n",
        "import matplotlib.pyplot as plt"
      ],
      "execution_count": 1,
      "outputs": []
    },
    {
      "cell_type": "code",
      "metadata": {
        "id": "nfUZlRCnfqOk"
      },
      "source": [
        "list_files = [\"AERDB_D3_VIIRS_SNPP.A2021091.001.2021095001302.nc\",\n",
        "              \"AERDB_D3_VIIRS_SNPP.A2021092.001.2021096001207.nc\",\n",
        "              \"AERDB_D3_VIIRS_SNPP.A2021093.001.2021097000104.nc\",\n",
        "              \"AERDB_D3_VIIRS_SNPP.A2021094.001.2021098001051.nc\",\n",
        "              \"AERDB_D3_VIIRS_SNPP.A2021095.001.2021099000754.nc\",\n",
        "              \"AERDB_D3_VIIRS_SNPP.A2021096.001.2021100000548.nc\",\n",
        "              \"AERDB_D3_VIIRS_SNPP.A2021097.001.2021101000703.nc\",\n",
        "              \"AERDB_D3_VIIRS_SNPP.A2021098.001.2021102001537.nc\",\n",
        "              \"AERDB_D3_VIIRS_SNPP.A2021099.001.2021103000048.nc\",\n",
        "              \"AERDB_D3_VIIRS_SNPP.A2021100.001.2021104001029.nc\"]\n",
        "\n",
        "record_datetime = []\n",
        "record_aerosol_SF = []\n",
        "\n",
        "for filename in list_files:\n",
        "    ds = nc.Dataset(filename)\n",
        "    aerosol = np.array(ds.variables['Aerosol_Optical_Thickness_550_Land_Ocean_Mean'])\n",
        "    # Excludes invalid values\n",
        "    aerosol[aerosol<0] = np.nan\n",
        "\n",
        "    SF_latitude = 37.5\n",
        "    SF_longitude = -122.5\n",
        "    latitude_filter = np.array(ds.variables['Latitude']) == SF_latitude\n",
        "    longitude_filter = np.array(ds.variables['Longitude']) == SF_longitude\n",
        "    latitude_and_longitude_filter = latitude_filter & longitude_filter\n",
        "    SF_aerosol = aerosol[latitude_and_longitude_filter][0]\n",
        "\n",
        "    # Access the datetime record (in DAAS format, or text format): \n",
        "    raw_datetime = ds.time_coverage_start\n",
        "\n",
        "    # Process the datetime record to a form that can be plotted:\n",
        "    processed_datetime = datetime.strptime(raw_datetime[:10], \"%Y-%m-%d\")\n",
        "    \n",
        "    record_aerosol_SF.append(SF_aerosol)\n",
        "    record_datetime.append(processed_datetime)"
      ],
      "execution_count": 2,
      "outputs": []
    },
    {
      "cell_type": "code",
      "metadata": {
        "id": "ANcgMcX4fqRe",
        "colab": {
          "base_uri": "https://localhost:8080/",
          "height": 388
        },
        "outputId": "23abce59-56df-483e-f882-161fb1cc83f7"
      },
      "source": [
        "plt.figure(figsize=(14,6))\n",
        "plt.scatter(record_datetime, record_aerosol_SF)\n",
        "plt.xlabel(\"Date\")\n",
        "plt.ylabel(\"Aerosol Optical Thickness\")\n",
        "plt.show()"
      ],
      "execution_count": 3,
      "outputs": [
        {
          "output_type": "display_data",
          "data": {
            "image/png": "[encoded data removed]",
            "text/plain": [
              "<Figure size 1008x432 with 1 Axes>"
            ]
          },
          "metadata": {
            "tags": [],
            "needs_background": "light"
          }
        }
      ]
    },
    {
      "cell_type": "code",
      "metadata": {
        "id": "YeKhN48XfqVW",
        "colab": {
          "base_uri": "https://localhost:8080/"
        },
        "outputId": "ed186ff7-9708-4cd3-e18f-f60769d0eccd"
      },
      "source": [
        "print(record_aerosol_SF)"
      ],
      "execution_count": 4,
      "outputs": [
        {
          "output_type": "stream",
          "text": [
            "[0.07485436, 0.15773441, 0.19810559, nan, 0.16591643, 0.13282655, 0.12146429, 0.07139904, 0.13508497, 0.12333769]\n"
          ],
          "name": "stdout"
        }
      ]
    }
  ]
}